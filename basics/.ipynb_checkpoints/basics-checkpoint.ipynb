{
 "cells": [
  {
   "cell_type": "code",
   "execution_count": null,
   "metadata": {
    "autoscroll": false,
    "collapsed": false,
    "ein.tags": "worksheet-0",
    "slideshow": {
     "slide_type": "-"
    }
   },
   "outputs": [],
   "source": [
    "import numpy as np\n",
    "import cv2 as cv\n",
    "import matplotlib.pyplot as plt\n",
    "%matplotlib inline"
   ]
  },
  {
   "cell_type": "markdown",
   "metadata": {
    "ein.tags": "worksheet-0",
    "slideshow": {
     "slide_type": "-"
    }
   },
   "source": [
    "# Read the image in color and grayscale"
   ]
  },
  {
   "cell_type": "raw",
   "metadata": {
    "ein.tags": "worksheet-0",
    "slideshow": {
     "slide_type": "-"
    }
   },
   "source": [
    "use imread like MATLAB"
   ]
  },
  {
   "cell_type": "code",
   "execution_count": null,
   "metadata": {
    "autoscroll": false,
    "collapsed": false,
    "ein.tags": "worksheet-0",
    "slideshow": {
     "slide_type": "-"
    }
   },
   "outputs": [],
   "source": [
    "img_gray = cv.imread('../assets/lena.bmp', 0)\n",
    "img_color = cv.imread('../assets/lena.bmp', 1)"
   ]
  },
  {
   "cell_type": "markdown",
   "metadata": {
    "ein.tags": "worksheet-0",
    "slideshow": {
     "slide_type": "-"
    }
   },
   "source": [
    "# Show image using matplotlib and opencv interface"
   ]
  },
  {
   "cell_type": "raw",
   "metadata": {
    "ein.tags": "worksheet-0",
    "slideshow": {
     "slide_type": "-"
    }
   },
   "source": [
    "imshow(src, color_flag)\n",
    "namedWindow(name, size_param)\n",
    "waitKey(duration)\n",
    "imshow(src)\n",
    "destroyWindow(name)"
   ]
  },
  {
   "cell_type": "code",
   "execution_count": null,
   "metadata": {
    "autoscroll": false,
    "collapsed": false,
    "ein.tags": "worksheet-0",
    "slideshow": {
     "slide_type": "-"
    }
   },
   "outputs": [],
   "source": [
    "# matplotlib interface\n",
    "plt.subplot(1,2,1)\n",
    "plt.imshow(img_gray, cmap='gray')\n",
    "plt.title('Grayscale')\n",
    "\n",
    "plt.subplot(1,2,2)\n",
    "plt.imshow(img_color)\n",
    "plt.title('Color')\n",
    "\n",
    "# opencv interface\n",
    "window = cv.namedWindow('win', cv.WINDOW_NORMAL)\n",
    "cv.imshow('win', img_color)\n",
    "char = cv.waitKey(0)\n",
    "if char == ord('q'):\n",
    "    cv.destroyWindow('win')"
   ]
  },
  {
   "cell_type": "markdown",
   "metadata": {
    "ein.tags": "worksheet-0",
    "slideshow": {
     "slide_type": "-"
    }
   },
   "source": [
    "# Why is the image blue instead of normal color?"
   ]
  },
  {
   "cell_type": "markdown",
   "metadata": {
    "ein.tags": "worksheet-0",
    "slideshow": {
     "slide_type": "-"
    }
   },
   "source": [
    "# Write image"
   ]
  },
  {
   "cell_type": "raw",
   "metadata": {
    "ein.tags": "worksheet-0",
    "slideshow": {
     "slide_type": "-"
    }
   },
   "source": [
    "imwrite(file_name, src)"
   ]
  },
  {
   "cell_type": "code",
   "execution_count": null,
   "metadata": {
    "autoscroll": false,
    "collapsed": false,
    "ein.tags": "worksheet-0",
    "slideshow": {
     "slide_type": "-"
    }
   },
   "outputs": [],
   "source": [
    "cv.imwrite('lena_gray.jpg', img_gray)\n",
    "cv.imwrite('lena_color.jpg', img_color)"
   ]
  },
  {
   "cell_type": "markdown",
   "metadata": {
    "ein.tags": "worksheet-0",
    "slideshow": {
     "slide_type": "-"
    }
   },
   "source": [
    "# Manipulate images"
   ]
  },
  {
   "cell_type": "raw",
   "metadata": {
    "ein.tags": "worksheet-0",
    "slideshow": {
     "slide_type": "-"
    }
   },
   "source": [
    "    Use numpy interface or opencv\n",
    "    cv.add()\n",
    "    cv.subtract()\n",
    "    cv.multiply()\n",
    "    cv.divide()"
   ]
  },
  {
   "cell_type": "code",
   "execution_count": null,
   "metadata": {
    "autoscroll": false,
    "collapsed": false,
    "ein.tags": "worksheet-0",
    "slideshow": {
     "slide_type": "-"
    }
   },
   "outputs": [],
   "source": [
    "result = cv.add(img_gray, 128)\n",
    "result = cv.subtract(img_gray, 128)\n",
    "result = cv.multiply(img_gray, 1.5)\n",
    "result = cv.divide(img_gray, 2)"
   ]
  },
  {
   "cell_type": "markdown",
   "metadata": {
    "ein.tags": "worksheet-0",
    "slideshow": {
     "slide_type": "-"
    }
   },
   "source": [
    "# Resize image"
   ]
  },
  {
   "cell_type": "raw",
   "metadata": {
    "ein.tags": "worksheet-0",
    "slideshow": {
     "slide_type": "-"
    }
   },
   "source": [
    "cv.resize()"
   ]
  },
  {
   "cell_type": "code",
   "execution_count": null,
   "metadata": {
    "autoscroll": false,
    "collapsed": false,
    "ein.tags": "worksheet-0",
    "slideshow": {
     "slide_type": "-"
    }
   },
   "outputs": [],
   "source": [
    "size = (256, 256)\n",
    "result = cv.resize(img_gray, size)"
   ]
  },
  {
   "cell_type": "markdown",
   "metadata": {
    "ein.tags": "worksheet-0",
    "slideshow": {
     "slide_type": "-"
    }
   },
   "source": [
    "# Quick practice [5 mins]"
   ]
  },
  {
   "cell_type": "markdown",
   "metadata": {
    "ein.tags": "worksheet-0",
    "slideshow": {
     "slide_type": "-"
    }
   },
   "source": [
    "####     Add a circular vignette effect to lena"
   ]
  },
  {
   "cell_type": "markdown",
   "metadata": {
    "ein.tags": "worksheet-0",
    "slideshow": {
     "slide_type": "-"
    }
   },
   "source": [
    "# Color spaces"
   ]
  },
  {
   "cell_type": "raw",
   "metadata": {
    "ein.tags": "worksheet-0",
    "slideshow": {
     "slide_type": "-"
    }
   },
   "source": [
    "cv.cvtColor(src, mapping)\n",
    "available spaces are:\n",
    "    - grayscale\n",
    "    - RGB\n",
    "    - BGR\n",
    "    - HSV\n",
    "    - HLS\n",
    "    - and more!"
   ]
  },
  {
   "cell_type": "code",
   "execution_count": null,
   "metadata": {
    "autoscroll": false,
    "collapsed": false,
    "ein.tags": "worksheet-0",
    "slideshow": {
     "slide_type": "-"
    }
   },
   "outputs": [],
   "source": [
    "img_rgb = cv.cvtColor(img_color, cv.COLOR_BGR2RGB)\n",
    "plt.imshow(img_rgb)"
   ]
  },
  {
   "cell_type": "markdown",
   "metadata": {
    "ein.tags": "worksheet-0",
    "slideshow": {
     "slide_type": "-"
    }
   },
   "source": [
    "# Quick practice [5 mins]"
   ]
  },
  {
   "cell_type": "markdown",
   "metadata": {
    "ein.tags": "worksheet-0",
    "slideshow": {
     "slide_type": "-"
    }
   },
   "source": [
    "#### Highlight overexposed areas in lena"
   ]
  },
  {
   "cell_type": "markdown",
   "metadata": {
    "ein.tags": "worksheet-0",
    "slideshow": {
     "slide_type": "-"
    }
   },
   "source": [
    "# Histograms"
   ]
  },
  {
   "cell_type": "raw",
   "metadata": {
    "ein.tags": "worksheet-0",
    "slideshow": {
     "slide_type": "-"
    }
   },
   "source": [
    "cv.calcHist([images], [channels], mask, [bin_counts], [min_range, max_range])"
   ]
  },
  {
   "cell_type": "code",
   "execution_count": null,
   "metadata": {
    "autoscroll": false,
    "collapsed": false,
    "ein.tags": "worksheet-0",
    "slideshow": {
     "slide_type": "-"
    }
   },
   "outputs": [],
   "source": [
    "hist_gray = cv.calcHist([img_gray], [0], None, [255], [0, 256])\n",
    "plt.plot(np.arange(255), hist_gray.squeeze(), c='k')"
   ]
  },
  {
   "cell_type": "code",
   "execution_count": null,
   "metadata": {
    "autoscroll": false,
    "collapsed": false,
    "ein.tags": "worksheet-0",
    "slideshow": {
     "slide_type": "-"
    }
   },
   "outputs": [],
   "source": [
    "# for RGB:"
   ]
  },
  {
   "cell_type": "markdown",
   "metadata": {
    "ein.tags": "worksheet-0",
    "slideshow": {
     "slide_type": "-"
    }
   },
   "source": [
    "# Contrast adjustment and histogram equalization"
   ]
  },
  {
   "cell_type": "markdown",
   "metadata": {
    "ein.tags": "worksheet-0",
    "slideshow": {
     "slide_type": "-"
    }
   },
   "source": [
    "cv.equalizeHist(src)\n",
    "$$Eq(x,y) = CDF(src(x,y))$$\n",
    "where CDF is the cumulative distribution function"
   ]
  },
  {
   "cell_type": "code",
   "execution_count": null,
   "metadata": {
    "autoscroll": false,
    "collapsed": false,
    "ein.tags": "worksheet-0",
    "slideshow": {
     "slide_type": "-"
    }
   },
   "outputs": [],
   "source": [
    "result = cv.equalizeHist(img_gray)\n",
    "plt.imshow(result, cmap='gray')"
   ]
  },
  {
   "cell_type": "markdown",
   "metadata": {
    "ein.tags": "worksheet-0",
    "slideshow": {
     "slide_type": "-"
    }
   },
   "source": [
    "# Histogram matching"
   ]
  },
  {
   "cell_type": "raw",
   "metadata": {
    "ein.tags": "worksheet-0",
    "slideshow": {
     "slide_type": "-"
    }
   },
   "source": [
    "Histograms are simple discriptors of the image and can be used to loosely  measure the similarity between two images\n",
    "cv.compareHist(hist_1, hist_2, method)\n",
    "The methods define the metrics of comparison. Some most populars are:\n",
    "    "
   ]
  },
  {
   "cell_type": "markdown",
   "metadata": {
    "ein.tags": "worksheet-0",
    "slideshow": {
     "slide_type": "-"
    }
   },
   "source": [
    "cv.HISTCMP_CHISQR (better=smaller)\n",
    "$$d(H_1, H_2) = \\sum_i \\frac{(H_1(i) - H_2(i))^2}{H_1(i)}$$\n",
    "\n",
    "cv.HISTCMP_CORREL (better=greater)\n",
    "$$d(H_1, H_2) = \\frac{\\sum_i \\left(H_1(i) - \\hat{H_1}(i)\\right)\\left(H_2(i) - \\hat{H_2}(i)\\right)}{\\sqrt{\\sum_i \\left(H_1(i) - \\hat{H_1}(i)\\right)^2 \\sum_i \\left(H_2(i) - \\hat{H_2}(i)\\right)^2}}$$\n",
    "where\n",
    "$$\\hat{H_k}(i) = 1/N \\sum_j H_k(j)$$\n",
    "\n",
    "cv.HISTCMP_INTERSECT (better=greater)\n",
    "$$d(H_1, H_2) = \\sum_i min(H_1(i), H_2(i))$$\n",
    "   "
   ]
  },
  {
   "cell_type": "code",
   "execution_count": null,
   "metadata": {
    "autoscroll": false,
    "collapsed": false,
    "ein.tags": "worksheet-0",
    "slideshow": {
     "slide_type": "-"
    }
   },
   "outputs": [],
   "source": [
    "mask = np.zeros_like(img_gray)\n",
    "mask[50:500, 50:400] = 1\n",
    "img_gray_2 = img_gray * mask\n",
    "plt.imshow(img_gray_2, cmap='gray')\n",
    "plt.figure()\n",
    "plt.imshow(img_gray, cmap='gray')"
   ]
  },
  {
   "cell_type": "code",
   "execution_count": null,
   "metadata": {
    "autoscroll": false,
    "collapsed": false,
    "ein.tags": "worksheet-0",
    "slideshow": {
     "slide_type": "-"
    }
   },
   "outputs": [],
   "source": [
    "metrics = [cv.HISTCMP_CHISQR, cv.HISTCMP_CORREL, cv.HISTCMP_INTERSECT]\n",
    "h1 = cv.calcHist(img_gray, [0], None, [255], [0, 256])\n",
    "h2 = cv.calcHist(img_gray_2, [0], None, [255], [0, 256])\n",
    "for m in metrics:\n",
    "    print cv.compareHist(h1, h2, m)"
   ]
  },
  {
   "cell_type": "markdown",
   "metadata": {
    "ein.tags": "worksheet-0",
    "slideshow": {
     "slide_type": "-"
    }
   },
   "source": [
    "# Drawing"
   ]
  },
  {
   "cell_type": "raw",
   "metadata": {
    "ein.tags": "worksheet-0",
    "slideshow": {
     "slide_type": "-"
    }
   },
   "source": [
    "cv.line\n",
    "cv.rectangle\n",
    "cv.circle\n",
    "cv.putText\n",
    "..."
   ]
  },
  {
   "cell_type": "code",
   "execution_count": null,
   "metadata": {
    "autoscroll": false,
    "collapsed": false,
    "ein.tags": "worksheet-0",
    "slideshow": {
     "slide_type": "-"
    }
   },
   "outputs": [],
   "source": [
    "drawing = cv.line(img_rgb.copy(), (3,3), (400, 100), color=np.array([255, 0, 0]), thickness=10)\n",
    "drawing = cv.rectangle(drawing, (410, 100), (500, 200), color=np.array([0, 0, 255]), thickness=-1)\n",
    "drawing = cv.circle(drawing, (100, 300), 50, color=np.array([0, 255, 0]), thickness=3)\n",
    "drawing = cv.putText(drawing, 'sample text', (200, 400), cv.FONT_HERSHEY_PLAIN, fontScale=3, color=np.array([255, 255, 0]), thickness=3)\n",
    "plt.imshow(drawing)"
   ]
  },
  {
   "cell_type": "markdown",
   "metadata": {
    "ein.tags": "worksheet-0",
    "slideshow": {
     "slide_type": "-"
    }
   },
   "source": [
    "# Sample GUI tool:\n",
    "    Get location of the mouse click"
   ]
  },
  {
   "cell_type": "code",
   "execution_count": null,
   "metadata": {
    "autoscroll": false,
    "collapsed": false,
    "ein.tags": "worksheet-0",
    "slideshow": {
     "slide_type": "-"
    }
   },
   "outputs": [],
   "source": [
    "def mouse_callback(event, x, y, flags, params):\n",
    "    if event == cv.EVENT_LBUTTONUP:\n",
    "         print [x, y]"
   ]
  },
  {
   "cell_type": "code",
   "execution_count": null,
   "metadata": {
    "autoscroll": false,
    "collapsed": false,
    "ein.tags": "worksheet-0",
    "slideshow": {
     "slide_type": "-"
    }
   },
   "outputs": [],
   "source": [
    "def print_clicks():\n",
    "    cv.namedWindow(\"blank\", cv.WINDOW_AUTOSIZE)\n",
    "    cv.setMouseCallback(\"blank\", mouse_callback)\n",
    "    dummy = np.zeros((512, 512))\n",
    "    cv.imshow(\"blank\", dummy)\n",
    "    while True:\n",
    "        key = cv.waitKey(10) & 0xFF        \n",
    "        if key == ord('q'):\n",
    "            break\n",
    "    cv.destroyAllWindows()"
   ]
  },
  {
   "cell_type": "markdown",
   "metadata": {
    "ein.tags": "worksheet-0",
    "slideshow": {
     "slide_type": "-"
    }
   },
   "source": [
    "# In-class project: iPatch [45 mins]"
   ]
  },
  {
   "cell_type": "raw",
   "metadata": {
    "ein.tags": "worksheet-0",
    "slideshow": {
     "slide_type": "-"
    }
   },
   "source": [
    "In this project you will generate a high resolution image from 32x32 tiles, which are from the CIFAR-10 dataset. See the images below.\n",
    "In particular, write a function which gets the original image and the dataset as the input args and returns the tiled image.\n",
    "\n",
    "def iPatch(image, dataset):\n",
    "    '''Reconstruct a high resolution RGB image with 32x32 RGB tiles\n",
    "    param image: input image \n",
    "    param dataset: numpy array of size (nb_tiles, ...)\n",
    "    '''\n",
    "    return tiled"
   ]
  },
  {
   "cell_type": "code",
   "execution_count": null,
   "metadata": {
    "autoscroll": false,
    "collapsed": false,
    "ein.tags": "worksheet-0",
    "slideshow": {
     "slide_type": "-"
    }
   },
   "outputs": [],
   "source": [
    "original = cv.imread('../assets/original.jpg')\n",
    "patched = cv.imread('../assets/iPatched.png')\n",
    "plt.imshow(original)\n",
    "plt.figure()\n",
    "plt.imshow(patched)"
   ]
  }
 ],
 "metadata": {
  "name": "basics.ipynb"
 },
 "nbformat": 4,
 "nbformat_minor": 2
}
