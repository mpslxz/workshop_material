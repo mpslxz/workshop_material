{
 "cells": [
  {
   "cell_type": "code",
   "execution_count": null,
   "metadata": {
    "autoscroll": false,
    "collapsed": false,
    "ein.tags": "worksheet-0",
    "slideshow": {
     "slide_type": "-"
    }
   },
   "outputs": [],
   "source": [
    "import numpy as np\n",
    "import cv2 as cv\n",
    "import matplotlib.pyplot as plt\n",
    "%matplotlib inline"
   ]
  },
  {
   "cell_type": "markdown",
   "metadata": {
    "ein.tags": "worksheet-0",
    "slideshow": {
     "slide_type": "-"
    }
   },
   "source": [
    "# Reading from camera"
   ]
  },
  {
   "cell_type": "code",
   "execution_count": null,
   "metadata": {
    "autoscroll": false,
    "collapsed": false,
    "ein.tags": "worksheet-0",
    "slideshow": {
     "slide_type": "-"
    }
   },
   "outputs": [],
   "source": [
    "cap = cv.VideoCapture(0)\n",
    "\n",
    "while(1):\n",
    "    ret, frame = cap.read()\n",
    "    cv.imshow('frame',frame)\n",
    "    k = cv.waitKey(30)\n",
    "    if k == ord('q'):\n",
    "        break\n",
    "cap.release()\n",
    "cv.destroyAllWindows()"
   ]
  },
  {
   "cell_type": "markdown",
   "metadata": {
    "ein.tags": "worksheet-0",
    "slideshow": {
     "slide_type": "-"
    }
   },
   "source": [
    "# Reading from file"
   ]
  },
  {
   "cell_type": "code",
   "execution_count": null,
   "metadata": {
    "autoscroll": false,
    "collapsed": false,
    "ein.tags": "worksheet-0",
    "slideshow": {
     "slide_type": "-"
    }
   },
   "outputs": [],
   "source": [
    "cap = cv.VideoCapture('../assets/turtle.mp4')\n",
    "\n",
    "while(1):\n",
    "    ret, frame = cap.read()\n",
    "    cv.imshow('frame',frame)\n",
    "    k = cv.waitKey(30)\n",
    "    if k == ord('q'):\n",
    "        break\n",
    "cap.release()\n",
    "cv.destroyAllWindows()"
   ]
  },
  {
   "cell_type": "markdown",
   "metadata": {
    "ein.tags": "worksheet-0",
    "slideshow": {
     "slide_type": "-"
    }
   },
   "source": [
    "# Quick practice [5 mins]"
   ]
  },
  {
   "cell_type": "markdown",
   "metadata": {
    "ein.tags": "worksheet-0",
    "slideshow": {
     "slide_type": "-"
    }
   },
   "source": [
    "#### Add a cartoon effect to your camera"
   ]
  },
  {
   "cell_type": "markdown",
   "metadata": {
    "ein.tags": "worksheet-0",
    "slideshow": {
     "slide_type": "-"
    }
   },
   "source": [
    "# Capturer properties "
   ]
  },
  {
   "cell_type": "raw",
   "metadata": {
    "ein.tags": "worksheet-0",
    "slideshow": {
     "slide_type": "-"
    }
   },
   "source": [
    "All of the properties can be obtained via get"
   ]
  },
  {
   "cell_type": "code",
   "execution_count": null,
   "metadata": {
    "autoscroll": false,
    "collapsed": false,
    "ein.tags": "worksheet-0",
    "slideshow": {
     "slide_type": "-"
    }
   },
   "outputs": [],
   "source": [
    "cap = cv.VideoCapture('../assets/turtle.mp4')\n",
    "print \"fps\", cap.get(cv.CAP_PROP_FPS)\n",
    "print \"width\", cap.get(cv.CAP_PROP_FRAME_WIDTH)\n",
    "print \"height\", cap.get(cv.CAP_PROP_FRAME_HEIGHT)\n",
    "print \"number of frames\", int(cap.get(cv.CAP_PROP_FRAME_COUNT))\n"
   ]
  },
  {
   "cell_type": "markdown",
   "metadata": {
    "ein.tags": "worksheet-0",
    "slideshow": {
     "slide_type": "-"
    }
   },
   "source": [
    "# Writing video"
   ]
  },
  {
   "cell_type": "raw",
   "metadata": {
    "ein.tags": "worksheet-0",
    "slideshow": {
     "slide_type": "-"
    }
   },
   "source": [
    "Some codecs are buggy. I found motion jpg works across the board with avi. However, there is no encoding."
   ]
  },
  {
   "cell_type": "code",
   "execution_count": null,
   "metadata": {
    "autoscroll": false,
    "collapsed": false,
    "ein.tags": "worksheet-0",
    "slideshow": {
     "slide_type": "-"
    }
   },
   "outputs": [],
   "source": [
    "cap = cv.VideoCapture('../assets/turtle.mp4')\n",
    "width = cap.get(cv.CAP_PROP_FRAME_WIDTH)\n",
    "height = cap.get(cv.CAP_PROP_FRAME_HEIGHT)\n",
    "fps = cap.get(cv.CAP_PROP_FPS)\n",
    "fourcc = cv.VideoWriter_fourcc(*'MJPG')\n",
    "out = cv.VideoWriter('output.avi',fourcc, fps, (int(width),int(height)))\n",
    "\n",
    "for i in range(int(cap.get(cv.CAP_PROP_FRAME_COUNT))):\n",
    "    ret, frame = cap.read()\n",
    "    cv.imshow('frame',frame)\n",
    "    out.write(frame)\n",
    "    k = cv.waitKey(30)\n",
    "    if k == ord('q'):\n",
    "        break\n",
    "cap.release()\n",
    "out.release()\n",
    "cv.destroyAllWindows()"
   ]
  },
  {
   "cell_type": "markdown",
   "metadata": {
    "ein.tags": "worksheet-0",
    "slideshow": {
     "slide_type": "-"
    }
   },
   "source": [
    "# Background extraction in video"
   ]
  },
  {
   "cell_type": "code",
   "execution_count": null,
   "metadata": {
    "autoscroll": false,
    "collapsed": false,
    "ein.tags": "worksheet-0",
    "slideshow": {
     "slide_type": "-"
    }
   },
   "outputs": [],
   "source": [
    "cap = cv.VideoCapture(0)\n",
    "background_modeler = cv.createBackgroundSubtractorMOG2(history=100, varThreshold=20)\n",
    "\n",
    "while(1):\n",
    "    ret, frame = cap.read()\n",
    "    mask = background_modeler.apply(frame)\n",
    "    cv.imshow('frame',mask)\n",
    "    k = cv.waitKey(30)\n",
    "    if k == ord('q'):\n",
    "        break\n",
    "cap.release()\n",
    "cv.destroyAllWindows()"
   ]
  }
 ],
 "metadata": {
  "name": "video.ipynb"
 },
 "nbformat": 4,
 "nbformat_minor": 2
}
